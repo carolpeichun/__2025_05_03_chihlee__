{
 "cells": [
  {
   "cell_type": "code",
   "execution_count": null,
   "id": "721d001f",
   "metadata": {},
   "outputs": [
    {
     "name": "stdout",
     "output_type": "stream",
     "text": [
      "20.761245674740486\n",
      "正常範圍\n"
     ]
    }
   ],
   "source": [
    "#函數\n",
    "def caculate_bmi(height:int,weight:int)->float: #def→定義 #caculate_bmi→函數 #h→參數 #:int→typehint(引數值的型別) #->float傳回浮點數\n",
    "    return weight / (height / 100) ** 2\n",
    "\n",
    "#函數\n",
    "def get_state(bmi:float)->str:\n",
    "    if bmi < 18.5:\n",
    "        return \"體重過輕\"\n",
    "    elif bmi < 24:\n",
    "        return \"正常範圍\"\n",
    "    elif bmi < 27:\n",
    "        return \"過重\"\n",
    "    elif bmi < 30:\n",
    "        return \"輕度肥胖\"\n",
    "    elif bmi < 35:\n",
    "        return \"中度肥胖\"\n",
    "    else:\n",
    "        return \"重度肥胖\"\n",
    "\n",
    "#函數只會在暫存區執行, 執行完即釋放, 故使用跟主程式一樣的參數並不會衝突(如height、weight、bmi), 即主程式跟函數的參數是各自獨立的。\n",
    "\n",
    "#主程式\n",
    "height:int = int(input(\"請輸入身高(cm):\")) #height後面+\":\"是表示後面要輸入typehint(引數值的型別), 即程式執行時會被要求要輸入的值的提示\n",
    "weight:int = int(input(\"請輸入體重(kg):\"))\n",
    "\n",
    "bmi = caculate_bmi(height, weight)\n",
    "\n",
    "print(bmi)\n",
    "print(get_state(bmi))"
   ]
  },
  {
   "cell_type": "code",
   "execution_count": 10,
   "id": "67e19728",
   "metadata": {},
   "outputs": [
    {
     "data": {
      "text/plain": [
       "{'__name__': '__main__',\n",
       " '__doc__': 'Automatically created module for IPython interactive environment',\n",
       " '__package__': None,\n",
       " '__loader__': None,\n",
       " '__spec__': None,\n",
       " '__builtin__': <module 'builtins' (built-in)>,\n",
       " '__builtins__': <module 'builtins' (built-in)>,\n",
       " '_ih': ['',\n",
       "  'def caculate_bmi(h:int,w:int)->float:\\n    pass\\n\\nheight:int = int(input(\"請輸入身高(cm):\")) #height後面+:int→typehint\\nweight:int = int(input(\"請輸入體重(kg):\"))\\n\\nbmi = caculate_bmi(height, weight)',\n",
       "  'def caculate_bmi(h:int,w:int)->float:\\n    pass\\n\\nheight:int = int(input(\"請輸入身高(cm):\")) #height後面+:int→typehint\\nweight:int = int(input(\"請輸入體重(kg):\"))\\n\\nbmi = caculate_bmi(height, weight)',\n",
       "  'def caculate_bmi(h:int,w:int)->float:\\n    return w / (h / 100) ** 2\\n\\nheight:int = int(input(\"請輸入身高(cm):\")) #height後面+:int→typehint\\nweight:int = int(input(\"請輸入體重(kg):\"))\\n\\nbmi = caculate_bmi(height, weight)\\nprint(bmi)',\n",
       "  'def caculate_bmi(h:int,w:int)->float:\\n    return w / (h / 100) ** 2\\n\\ndef get_state(b:float)->str:\\n    if b < 18.5:\\n        return \"體重過輕\"\\n    elif b < 24:\\n        return \"正常範圍\"\\n    elif b < 27:\\n        return \"過重\"\\n    elif b < 30:\\n        return \"輕度肥胖\"\\n    elif b < 35:\\n        return \"中度肥胖\"\\n    #elif b < \\n\\nheight:int = int(input(\"請輸入身高(cm):\")) #height後面+\":\"是必須要輸入typehint意思, 即程式執行時會被要求要輸入值\\nweight:int = int(input(\"請輸入體重(kg):\"))\\n\\nbmi = caculate_bmi(height, weight)\\n\\nprint(bmi)\\nprint(get_state(bmi))',\n",
       "  'def caculate_bmi(h:int,w:int)->float:\\n    return w / (h / 100) ** 2\\n\\ndef get_state(b:float)->str:\\n    if b < 18.5:\\n        return \"體重過輕\"\\n    elif b < 24:\\n        return \"正常範圍\"\\n    elif b < 27:\\n        return \"過重\"\\n    elif b < 30:\\n        return \"輕度肥胖\"\\n    elif b < 35:\\n        return \"中度肥胖\"\\n    else:\\n        return \"重度肥胖\"\\n\\nheight:int = int(input(\"請輸入身高(cm):\")) #height後面+\":\"是必須要輸入typehint意思, 即程式執行時會被要求要輸入值\\nweight:int = int(input(\"請輸入體重(kg):\"))\\n\\nbmi = caculate_bmi(height, weight)\\n\\nprint(bmi)\\nprint(get_state(bmi))',\n",
       "  'def caculate_bmi(h:int,w:int)->float:\\n    return w / (h / 100) ** 2\\n\\ndef get_state(b:float)->str:\\n    if b < 18.5:\\n        return \"體重過輕\"\\n    elif b < 24:\\n        return \"正常範圍\"\\n    elif b < 27:\\n        return \"過重\"\\n    elif b < 30:\\n        return \"輕度肥胖\"\\n    elif b < 35:\\n        return \"中度肥胖\"\\n    else:\\n        return \"重度肥胖\"\\n\\nheight:int = int(input(\"請輸入身高(cm):\")) #height後面+\":\"是必須要輸入typehint意思, 即程式執行時會被要求要輸入值\\nweight:int = int(input(\"請輸入體重(kg):\"))\\n\\nbmi = caculate_bmi(height, weight)\\n\\nprint(bmi)\\nprint(get_state(bmi))',\n",
       "  'def caculate_bmi(h:int,w:int)->float:\\n    return w / (h / 100) ** 2\\n\\ndef get_state(b:float)->str:\\n    if b < 18.5:\\n        return \"體重過輕\"\\n    elif b < 24:\\n        return \"正常範圍\"\\n    elif b < 27:\\n        return \"過重\"\\n    elif b < 30:\\n        return \"輕度肥胖\"\\n    elif b < 35:\\n        return \"中度肥胖\"\\n    else:\\n        return \"重度肥胖\"\\n\\nheight:int = int(input(\"請輸入身高(cm):\")) #height後面+\":\"是必須要輸入typehint意思, 即程式執行時會被要求要輸入值\\nweight:int = int(input(\"請輸入體重(kg):\"))\\n\\nbmi = caculate_bmi(height, weight)\\n\\nprint(bmi)\\nprint(get_state(bmi))',\n",
       "  'def caculate_bmi(height:int,weight:int)->float: #def→定義 #caculate_bmi→函數 #h→參數 #:int→typehint(引數值的型別) #->float傳回浮點數\\n    return w / (height / 100) ** 2\\n\\ndef get_state(bmi:float)->str:\\n    if bmi < 18.5:\\n        return \"體重過輕\"\\n    elif bmi < 24:\\n        return \"正常範圍\"\\n    elif bmi < 27:\\n        return \"過重\"\\n    elif bmi < 30:\\n        return \"輕度肥胖\"\\n    elif bmi < 35:\\n        return \"中度肥胖\"\\n    else:\\n        return \"重度肥胖\"\\n\\nheight:int = int(input(\"請輸入身高(cm):\")) #height後面+\":\"是表示後面要輸入typehint(引數值的型別), 即程式執行時會被要求要輸入的值的提示\\nweight:int = int(input(\"請輸入體重(kg):\"))\\n\\nbmi = caculate_bmi(height, weight)\\n\\nprint(bmi)\\nprint(get_state(bmi))',\n",
       "  'def caculate_bmi(height:int,weight:int)->float: #def→定義 #caculate_bmi→函數 #h→參數 #:int→typehint(引數值的型別) #->float傳回浮點數\\n    return weight / (height / 100) ** 2\\n\\ndef get_state(bmi:float)->str:\\n    if bmi < 18.5:\\n        return \"體重過輕\"\\n    elif bmi < 24:\\n        return \"正常範圍\"\\n    elif bmi < 27:\\n        return \"過重\"\\n    elif bmi < 30:\\n        return \"輕度肥胖\"\\n    elif bmi < 35:\\n        return \"中度肥胖\"\\n    else:\\n        return \"重度肥胖\"\\n\\nheight:int = int(input(\"請輸入身高(cm):\")) #height後面+\":\"是表示後面要輸入typehint(引數值的型別), 即程式執行時會被要求要輸入的值的提示\\nweight:int = int(input(\"請輸入體重(kg):\"))\\n\\nbmi = caculate_bmi(height, weight)\\n\\nprint(bmi)\\nprint(get_state(bmi))',\n",
       "  'vars()'],\n",
       " '_oh': {},\n",
       " '_dh': [WindowsPath('c:/Users/User/Documents/github/__2025_05_03_chihlee__/lesson7')],\n",
       " 'In': ['',\n",
       "  'def caculate_bmi(h:int,w:int)->float:\\n    pass\\n\\nheight:int = int(input(\"請輸入身高(cm):\")) #height後面+:int→typehint\\nweight:int = int(input(\"請輸入體重(kg):\"))\\n\\nbmi = caculate_bmi(height, weight)',\n",
       "  'def caculate_bmi(h:int,w:int)->float:\\n    pass\\n\\nheight:int = int(input(\"請輸入身高(cm):\")) #height後面+:int→typehint\\nweight:int = int(input(\"請輸入體重(kg):\"))\\n\\nbmi = caculate_bmi(height, weight)',\n",
       "  'def caculate_bmi(h:int,w:int)->float:\\n    return w / (h / 100) ** 2\\n\\nheight:int = int(input(\"請輸入身高(cm):\")) #height後面+:int→typehint\\nweight:int = int(input(\"請輸入體重(kg):\"))\\n\\nbmi = caculate_bmi(height, weight)\\nprint(bmi)',\n",
       "  'def caculate_bmi(h:int,w:int)->float:\\n    return w / (h / 100) ** 2\\n\\ndef get_state(b:float)->str:\\n    if b < 18.5:\\n        return \"體重過輕\"\\n    elif b < 24:\\n        return \"正常範圍\"\\n    elif b < 27:\\n        return \"過重\"\\n    elif b < 30:\\n        return \"輕度肥胖\"\\n    elif b < 35:\\n        return \"中度肥胖\"\\n    #elif b < \\n\\nheight:int = int(input(\"請輸入身高(cm):\")) #height後面+\":\"是必須要輸入typehint意思, 即程式執行時會被要求要輸入值\\nweight:int = int(input(\"請輸入體重(kg):\"))\\n\\nbmi = caculate_bmi(height, weight)\\n\\nprint(bmi)\\nprint(get_state(bmi))',\n",
       "  'def caculate_bmi(h:int,w:int)->float:\\n    return w / (h / 100) ** 2\\n\\ndef get_state(b:float)->str:\\n    if b < 18.5:\\n        return \"體重過輕\"\\n    elif b < 24:\\n        return \"正常範圍\"\\n    elif b < 27:\\n        return \"過重\"\\n    elif b < 30:\\n        return \"輕度肥胖\"\\n    elif b < 35:\\n        return \"中度肥胖\"\\n    else:\\n        return \"重度肥胖\"\\n\\nheight:int = int(input(\"請輸入身高(cm):\")) #height後面+\":\"是必須要輸入typehint意思, 即程式執行時會被要求要輸入值\\nweight:int = int(input(\"請輸入體重(kg):\"))\\n\\nbmi = caculate_bmi(height, weight)\\n\\nprint(bmi)\\nprint(get_state(bmi))',\n",
       "  'def caculate_bmi(h:int,w:int)->float:\\n    return w / (h / 100) ** 2\\n\\ndef get_state(b:float)->str:\\n    if b < 18.5:\\n        return \"體重過輕\"\\n    elif b < 24:\\n        return \"正常範圍\"\\n    elif b < 27:\\n        return \"過重\"\\n    elif b < 30:\\n        return \"輕度肥胖\"\\n    elif b < 35:\\n        return \"中度肥胖\"\\n    else:\\n        return \"重度肥胖\"\\n\\nheight:int = int(input(\"請輸入身高(cm):\")) #height後面+\":\"是必須要輸入typehint意思, 即程式執行時會被要求要輸入值\\nweight:int = int(input(\"請輸入體重(kg):\"))\\n\\nbmi = caculate_bmi(height, weight)\\n\\nprint(bmi)\\nprint(get_state(bmi))',\n",
       "  'def caculate_bmi(h:int,w:int)->float:\\n    return w / (h / 100) ** 2\\n\\ndef get_state(b:float)->str:\\n    if b < 18.5:\\n        return \"體重過輕\"\\n    elif b < 24:\\n        return \"正常範圍\"\\n    elif b < 27:\\n        return \"過重\"\\n    elif b < 30:\\n        return \"輕度肥胖\"\\n    elif b < 35:\\n        return \"中度肥胖\"\\n    else:\\n        return \"重度肥胖\"\\n\\nheight:int = int(input(\"請輸入身高(cm):\")) #height後面+\":\"是必須要輸入typehint意思, 即程式執行時會被要求要輸入值\\nweight:int = int(input(\"請輸入體重(kg):\"))\\n\\nbmi = caculate_bmi(height, weight)\\n\\nprint(bmi)\\nprint(get_state(bmi))',\n",
       "  'def caculate_bmi(height:int,weight:int)->float: #def→定義 #caculate_bmi→函數 #h→參數 #:int→typehint(引數值的型別) #->float傳回浮點數\\n    return w / (height / 100) ** 2\\n\\ndef get_state(bmi:float)->str:\\n    if bmi < 18.5:\\n        return \"體重過輕\"\\n    elif bmi < 24:\\n        return \"正常範圍\"\\n    elif bmi < 27:\\n        return \"過重\"\\n    elif bmi < 30:\\n        return \"輕度肥胖\"\\n    elif bmi < 35:\\n        return \"中度肥胖\"\\n    else:\\n        return \"重度肥胖\"\\n\\nheight:int = int(input(\"請輸入身高(cm):\")) #height後面+\":\"是表示後面要輸入typehint(引數值的型別), 即程式執行時會被要求要輸入的值的提示\\nweight:int = int(input(\"請輸入體重(kg):\"))\\n\\nbmi = caculate_bmi(height, weight)\\n\\nprint(bmi)\\nprint(get_state(bmi))',\n",
       "  'def caculate_bmi(height:int,weight:int)->float: #def→定義 #caculate_bmi→函數 #h→參數 #:int→typehint(引數值的型別) #->float傳回浮點數\\n    return weight / (height / 100) ** 2\\n\\ndef get_state(bmi:float)->str:\\n    if bmi < 18.5:\\n        return \"體重過輕\"\\n    elif bmi < 24:\\n        return \"正常範圍\"\\n    elif bmi < 27:\\n        return \"過重\"\\n    elif bmi < 30:\\n        return \"輕度肥胖\"\\n    elif bmi < 35:\\n        return \"中度肥胖\"\\n    else:\\n        return \"重度肥胖\"\\n\\nheight:int = int(input(\"請輸入身高(cm):\")) #height後面+\":\"是表示後面要輸入typehint(引數值的型別), 即程式執行時會被要求要輸入的值的提示\\nweight:int = int(input(\"請輸入體重(kg):\"))\\n\\nbmi = caculate_bmi(height, weight)\\n\\nprint(bmi)\\nprint(get_state(bmi))',\n",
       "  'vars()'],\n",
       " 'Out': {},\n",
       " 'get_ipython': <bound method InteractiveShell.get_ipython of <ipykernel.zmqshell.ZMQInteractiveShell object at 0x000001EC10DC3670>>,\n",
       " 'exit': <IPython.core.autocall.ZMQExitAutocall at 0x1ec10e14160>,\n",
       " 'quit': <IPython.core.autocall.ZMQExitAutocall at 0x1ec10e14160>,\n",
       " 'open': <function io.open(file, mode='r', buffering=-1, encoding=None, errors=None, newline=None, closefd=True, opener=None)>,\n",
       " '_': '',\n",
       " '__': '',\n",
       " '___': '',\n",
       " '__vsc_ipynb_file__': 'c:\\\\Users\\\\User\\\\Documents\\\\github\\\\__2025_05_03_chihlee__\\\\lesson7\\\\lesson7_1.ipynb',\n",
       " '_i': 'def caculate_bmi(height:int,weight:int)->float: #def→定義 #caculate_bmi→函數 #h→參數 #:int→typehint(引數值的型別) #->float傳回浮點數\\n    return weight / (height / 100) ** 2\\n\\ndef get_state(bmi:float)->str:\\n    if bmi < 18.5:\\n        return \"體重過輕\"\\n    elif bmi < 24:\\n        return \"正常範圍\"\\n    elif bmi < 27:\\n        return \"過重\"\\n    elif bmi < 30:\\n        return \"輕度肥胖\"\\n    elif bmi < 35:\\n        return \"中度肥胖\"\\n    else:\\n        return \"重度肥胖\"\\n\\nheight:int = int(input(\"請輸入身高(cm):\")) #height後面+\":\"是表示後面要輸入typehint(引數值的型別), 即程式執行時會被要求要輸入的值的提示\\nweight:int = int(input(\"請輸入體重(kg):\"))\\n\\nbmi = caculate_bmi(height, weight)\\n\\nprint(bmi)\\nprint(get_state(bmi))',\n",
       " '_ii': 'def caculate_bmi(height:int,weight:int)->float: #def→定義 #caculate_bmi→函數 #h→參數 #:int→typehint(引數值的型別) #->float傳回浮點數\\n    return w / (height / 100) ** 2\\n\\ndef get_state(bmi:float)->str:\\n    if bmi < 18.5:\\n        return \"體重過輕\"\\n    elif bmi < 24:\\n        return \"正常範圍\"\\n    elif bmi < 27:\\n        return \"過重\"\\n    elif bmi < 30:\\n        return \"輕度肥胖\"\\n    elif bmi < 35:\\n        return \"中度肥胖\"\\n    else:\\n        return \"重度肥胖\"\\n\\nheight:int = int(input(\"請輸入身高(cm):\")) #height後面+\":\"是表示後面要輸入typehint(引數值的型別), 即程式執行時會被要求要輸入的值的提示\\nweight:int = int(input(\"請輸入體重(kg):\"))\\n\\nbmi = caculate_bmi(height, weight)\\n\\nprint(bmi)\\nprint(get_state(bmi))',\n",
       " '_iii': 'def caculate_bmi(h:int,w:int)->float:\\n    return w / (h / 100) ** 2\\n\\ndef get_state(b:float)->str:\\n    if b < 18.5:\\n        return \"體重過輕\"\\n    elif b < 24:\\n        return \"正常範圍\"\\n    elif b < 27:\\n        return \"過重\"\\n    elif b < 30:\\n        return \"輕度肥胖\"\\n    elif b < 35:\\n        return \"中度肥胖\"\\n    else:\\n        return \"重度肥胖\"\\n\\nheight:int = int(input(\"請輸入身高(cm):\")) #height後面+\":\"是必須要輸入typehint意思, 即程式執行時會被要求要輸入值\\nweight:int = int(input(\"請輸入體重(kg):\"))\\n\\nbmi = caculate_bmi(height, weight)\\n\\nprint(bmi)\\nprint(get_state(bmi))',\n",
       " '_i1': 'def caculate_bmi(h:int,w:int)->float:\\n    pass\\n\\nheight:int = int(input(\"請輸入身高(cm):\")) #height後面+:int→typehint\\nweight:int = int(input(\"請輸入體重(kg):\"))\\n\\nbmi = caculate_bmi(height, weight)',\n",
       " 'caculate_bmi': <function __main__.caculate_bmi(height: int, weight: int) -> float>,\n",
       " '__annotations__': {'height': int, 'weight': int},\n",
       " 'height': 170,\n",
       " 'weight': 60,\n",
       " 'bmi': 20.761245674740486,\n",
       " '_i2': 'def caculate_bmi(h:int,w:int)->float:\\n    pass\\n\\nheight:int = int(input(\"請輸入身高(cm):\")) #height後面+:int→typehint\\nweight:int = int(input(\"請輸入體重(kg):\"))\\n\\nbmi = caculate_bmi(height, weight)',\n",
       " '_i3': 'def caculate_bmi(h:int,w:int)->float:\\n    return w / (h / 100) ** 2\\n\\nheight:int = int(input(\"請輸入身高(cm):\")) #height後面+:int→typehint\\nweight:int = int(input(\"請輸入體重(kg):\"))\\n\\nbmi = caculate_bmi(height, weight)\\nprint(bmi)',\n",
       " '_i4': 'def caculate_bmi(h:int,w:int)->float:\\n    return w / (h / 100) ** 2\\n\\ndef get_state(b:float)->str:\\n    if b < 18.5:\\n        return \"體重過輕\"\\n    elif b < 24:\\n        return \"正常範圍\"\\n    elif b < 27:\\n        return \"過重\"\\n    elif b < 30:\\n        return \"輕度肥胖\"\\n    elif b < 35:\\n        return \"中度肥胖\"\\n    #elif b < \\n\\nheight:int = int(input(\"請輸入身高(cm):\")) #height後面+\":\"是必須要輸入typehint意思, 即程式執行時會被要求要輸入值\\nweight:int = int(input(\"請輸入體重(kg):\"))\\n\\nbmi = caculate_bmi(height, weight)\\n\\nprint(bmi)\\nprint(get_state(bmi))',\n",
       " 'get_state': <function __main__.get_state(bmi: float) -> str>,\n",
       " '_i5': 'def caculate_bmi(h:int,w:int)->float:\\n    return w / (h / 100) ** 2\\n\\ndef get_state(b:float)->str:\\n    if b < 18.5:\\n        return \"體重過輕\"\\n    elif b < 24:\\n        return \"正常範圍\"\\n    elif b < 27:\\n        return \"過重\"\\n    elif b < 30:\\n        return \"輕度肥胖\"\\n    elif b < 35:\\n        return \"中度肥胖\"\\n    else:\\n        return \"重度肥胖\"\\n\\nheight:int = int(input(\"請輸入身高(cm):\")) #height後面+\":\"是必須要輸入typehint意思, 即程式執行時會被要求要輸入值\\nweight:int = int(input(\"請輸入體重(kg):\"))\\n\\nbmi = caculate_bmi(height, weight)\\n\\nprint(bmi)\\nprint(get_state(bmi))',\n",
       " '_i6': 'def caculate_bmi(h:int,w:int)->float:\\n    return w / (h / 100) ** 2\\n\\ndef get_state(b:float)->str:\\n    if b < 18.5:\\n        return \"體重過輕\"\\n    elif b < 24:\\n        return \"正常範圍\"\\n    elif b < 27:\\n        return \"過重\"\\n    elif b < 30:\\n        return \"輕度肥胖\"\\n    elif b < 35:\\n        return \"中度肥胖\"\\n    else:\\n        return \"重度肥胖\"\\n\\nheight:int = int(input(\"請輸入身高(cm):\")) #height後面+\":\"是必須要輸入typehint意思, 即程式執行時會被要求要輸入值\\nweight:int = int(input(\"請輸入體重(kg):\"))\\n\\nbmi = caculate_bmi(height, weight)\\n\\nprint(bmi)\\nprint(get_state(bmi))',\n",
       " '_i7': 'def caculate_bmi(h:int,w:int)->float:\\n    return w / (h / 100) ** 2\\n\\ndef get_state(b:float)->str:\\n    if b < 18.5:\\n        return \"體重過輕\"\\n    elif b < 24:\\n        return \"正常範圍\"\\n    elif b < 27:\\n        return \"過重\"\\n    elif b < 30:\\n        return \"輕度肥胖\"\\n    elif b < 35:\\n        return \"中度肥胖\"\\n    else:\\n        return \"重度肥胖\"\\n\\nheight:int = int(input(\"請輸入身高(cm):\")) #height後面+\":\"是必須要輸入typehint意思, 即程式執行時會被要求要輸入值\\nweight:int = int(input(\"請輸入體重(kg):\"))\\n\\nbmi = caculate_bmi(height, weight)\\n\\nprint(bmi)\\nprint(get_state(bmi))',\n",
       " '_i8': 'def caculate_bmi(height:int,weight:int)->float: #def→定義 #caculate_bmi→函數 #h→參數 #:int→typehint(引數值的型別) #->float傳回浮點數\\n    return w / (height / 100) ** 2\\n\\ndef get_state(bmi:float)->str:\\n    if bmi < 18.5:\\n        return \"體重過輕\"\\n    elif bmi < 24:\\n        return \"正常範圍\"\\n    elif bmi < 27:\\n        return \"過重\"\\n    elif bmi < 30:\\n        return \"輕度肥胖\"\\n    elif bmi < 35:\\n        return \"中度肥胖\"\\n    else:\\n        return \"重度肥胖\"\\n\\nheight:int = int(input(\"請輸入身高(cm):\")) #height後面+\":\"是表示後面要輸入typehint(引數值的型別), 即程式執行時會被要求要輸入的值的提示\\nweight:int = int(input(\"請輸入體重(kg):\"))\\n\\nbmi = caculate_bmi(height, weight)\\n\\nprint(bmi)\\nprint(get_state(bmi))',\n",
       " '_i9': 'def caculate_bmi(height:int,weight:int)->float: #def→定義 #caculate_bmi→函數 #h→參數 #:int→typehint(引數值的型別) #->float傳回浮點數\\n    return weight / (height / 100) ** 2\\n\\ndef get_state(bmi:float)->str:\\n    if bmi < 18.5:\\n        return \"體重過輕\"\\n    elif bmi < 24:\\n        return \"正常範圍\"\\n    elif bmi < 27:\\n        return \"過重\"\\n    elif bmi < 30:\\n        return \"輕度肥胖\"\\n    elif bmi < 35:\\n        return \"中度肥胖\"\\n    else:\\n        return \"重度肥胖\"\\n\\nheight:int = int(input(\"請輸入身高(cm):\")) #height後面+\":\"是表示後面要輸入typehint(引數值的型別), 即程式執行時會被要求要輸入的值的提示\\nweight:int = int(input(\"請輸入體重(kg):\"))\\n\\nbmi = caculate_bmi(height, weight)\\n\\nprint(bmi)\\nprint(get_state(bmi))',\n",
       " '_i10': 'vars()'}"
      ]
     },
     "execution_count": 10,
     "metadata": {},
     "output_type": "execute_result"
    }
   ],
   "source": [
    "vars()"
   ]
  }
 ],
 "metadata": {
  "kernelspec": {
   "display_name": "chihlee1",
   "language": "python",
   "name": "python3"
  },
  "language_info": {
   "codemirror_mode": {
    "name": "ipython",
    "version": 3
   },
   "file_extension": ".py",
   "mimetype": "text/x-python",
   "name": "python",
   "nbconvert_exporter": "python",
   "pygments_lexer": "ipython3",
   "version": "3.10.16"
  }
 },
 "nbformat": 4,
 "nbformat_minor": 5
}
