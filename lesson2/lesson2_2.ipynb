{
  "nbformat": 4,
  "nbformat_minor": 0,
  "metadata": {
    "colab": {
      "provenance": [],
      "authorship_tag": "ABX9TyP8V+ibX7avNNwLXWh+70qV",
      "include_colab_link": true
    },
    "kernelspec": {
      "name": "python3",
      "display_name": "Python 3"
    },
    "language_info": {
      "name": "python"
    }
  },
  "cells": [
    {
      "cell_type": "markdown",
      "metadata": {
        "id": "view-in-github",
        "colab_type": "text"
      },
      "source": [
        "<a href=\"https://colab.research.google.com/github/carolpeichun/__2025_05_03_chihlee__/blob/main/lesson2/lesson2_2.ipynb\" target=\"_parent\"><img src=\"https://colab.research.google.com/assets/colab-badge.svg\" alt=\"Open In Colab\"/></a>"
      ]
    },
    {
      "cell_type": "markdown",
      "source": [
        "### 只有數值型別可以數學運算"
      ],
      "metadata": {
        "id": "j3IxN72TFoZX"
      }
    },
    {
      "cell_type": "code",
      "execution_count": 2,
      "metadata": {
        "id": "QJ3UC35oFO1G",
        "outputId": "8583e587-c9e9-42a9-c218-08e2e210ac30",
        "colab": {
          "base_uri": "https://localhost:8080/"
        }
      },
      "outputs": [
        {
          "output_type": "execute_result",
          "data": {
            "text/plain": [
              "10.0"
            ]
          },
          "metadata": {},
          "execution_count": 2
        }
      ],
      "source": [
        "5 + 5 ##整數 + 整數\n",
        "5.0 + 5.0 ##浮點數 + 浮點數\n",
        "5 + 5.0 ##整數 + 浮點數 ##不同型別無法執行,但同樣是數值型別時,python會自動轉型(轉成較精確的型別)→浮點數"
      ]
    },
    {
      "cell_type": "markdown",
      "source": [
        "### 數值和字串無法數學運算"
      ],
      "metadata": {
        "id": "nfs2Yg_DGVb7"
      }
    },
    {
      "cell_type": "code",
      "source": [
        "5 + \"5\""
      ],
      "metadata": {
        "id": "wsujQ5r_Giek",
        "outputId": "d98d4acf-f577-4b4e-8eb3-3657c86c5d4c",
        "colab": {
          "base_uri": "https://localhost:8080/",
          "height": 141
        }
      },
      "execution_count": 3,
      "outputs": [
        {
          "output_type": "error",
          "ename": "TypeError",
          "evalue": "unsupported operand type(s) for +: 'int' and 'str'",
          "traceback": [
            "\u001b[0;31m---------------------------------------------------------------------------\u001b[0m",
            "\u001b[0;31mTypeError\u001b[0m                                 Traceback (most recent call last)",
            "\u001b[0;32m<ipython-input-3-b265071c056c>\u001b[0m in \u001b[0;36m<cell line: 0>\u001b[0;34m()\u001b[0m\n\u001b[0;32m----> 1\u001b[0;31m \u001b[0;36m5\u001b[0m \u001b[0;34m+\u001b[0m \u001b[0;34m\"5\"\u001b[0m\u001b[0;34m\u001b[0m\u001b[0;34m\u001b[0m\u001b[0m\n\u001b[0m",
            "\u001b[0;31mTypeError\u001b[0m: unsupported operand type(s) for +: 'int' and 'str'"
          ]
        }
      ]
    },
    {
      "cell_type": "markdown",
      "source": [
        "### 字串和字串可以相加、相乘"
      ],
      "metadata": {
        "id": "oB0TochpGqF1"
      }
    },
    {
      "cell_type": "code",
      "source": [
        "\"5\" + \"5\"\n",
        "\"=\" * 10"
      ],
      "metadata": {
        "id": "v9Mo2gxvGuie",
        "outputId": "e61dceca-ce3c-4685-9aae-8bb451bcb255",
        "colab": {
          "base_uri": "https://localhost:8080/",
          "height": 35
        }
      },
      "execution_count": 5,
      "outputs": [
        {
          "output_type": "execute_result",
          "data": {
            "text/plain": [
              "'=========='"
            ],
            "application/vnd.google.colaboratory.intrinsic+json": {
              "type": "string"
            }
          },
          "metadata": {},
          "execution_count": 5
        }
      ]
    },
    {
      "cell_type": "markdown",
      "source": [
        "### 暫時轉換型別"
      ],
      "metadata": {
        "id": "COt0Tk1FHAWx"
      }
    },
    {
      "cell_type": "code",
      "source": [
        "5 + float(\"5\")"
      ],
      "metadata": {
        "id": "F-ImQ8o7HGmY",
        "outputId": "292a53eb-8a8b-475c-94ee-49fe61ee8bfa",
        "colab": {
          "base_uri": "https://localhost:8080/"
        }
      },
      "execution_count": 6,
      "outputs": [
        {
          "output_type": "execute_result",
          "data": {
            "text/plain": [
              "10.0"
            ]
          },
          "metadata": {},
          "execution_count": 6
        }
      ]
    },
    {
      "cell_type": "code",
      "source": [
        "width = float(input(\"請輸入矩型的寬:\")) ##敘述式 ##浮點數\n",
        "height = float(input(\"請輸入矩形的高:\")) ##敘述式 ##浮點數\n",
        "area = width * height ##運算式 ##浮點數\n",
        "print(\"矩形的面積為:\", area)\n"
      ],
      "metadata": {
        "id": "hy4acl2IHltL",
        "outputId": "a085fd75-dccb-4f40-b646-88bd45fc7a81",
        "colab": {
          "base_uri": "https://localhost:8080/"
        }
      },
      "execution_count": 10,
      "outputs": [
        {
          "output_type": "stream",
          "name": "stdout",
          "text": [
            "請輸入矩型的寬:5\n",
            "請輸入矩形的高:5\n",
            "矩形的面積為: 25.0\n"
          ]
        }
      ]
    }
  ]
}