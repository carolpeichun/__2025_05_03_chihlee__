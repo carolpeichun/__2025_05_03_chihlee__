{
  "nbformat": 4,
  "nbformat_minor": 0,
  "metadata": {
    "colab": {
      "provenance": [],
      "authorship_tag": "ABX9TyPEKw6cEzPN2h7IEVLdvnfY",
      "include_colab_link": true
    },
    "kernelspec": {
      "name": "python3",
      "display_name": "Python 3"
    },
    "language_info": {
      "name": "python"
    }
  },
  "cells": [
    {
      "cell_type": "markdown",
      "metadata": {
        "id": "view-in-github",
        "colab_type": "text"
      },
      "source": [
        "<a href=\"https://colab.research.google.com/github/carolpeichun/__2025_05_03_chihlee__/blob/main/lesson2/lesson2_2.ipynb\" target=\"_parent\"><img src=\"https://colab.research.google.com/assets/colab-badge.svg\" alt=\"Open In Colab\"/></a>"
      ]
    },
    {
      "cell_type": "markdown",
      "source": [
        "### 只有數值型別可以數學運算"
      ],
      "metadata": {
        "id": "j3IxN72TFoZX"
      }
    },
    {
      "cell_type": "code",
      "execution_count": 2,
      "metadata": {
        "id": "QJ3UC35oFO1G",
        "colab": {
          "base_uri": "https://localhost:8080/"
        },
        "outputId": "8583e587-c9e9-42a9-c218-08e2e210ac30"
      },
      "outputs": [
        {
          "output_type": "execute_result",
          "data": {
            "text/plain": [
              "10.0"
            ]
          },
          "metadata": {},
          "execution_count": 2
        }
      ],
      "source": [
        "5 + 5 ##整數 + 整數\n",
        "5.0 + 5.0 ##浮點數 + 浮點數\n",
        "5 + 5.0 ##整數 + 浮點數 ##不同型別無法執行,但同樣是數值型別時,python會自動轉型(轉成較精確的型別)→浮點數"
      ]
    },
    {
      "cell_type": "markdown",
      "source": [
        "### 數值和字串無法數學運算"
      ],
      "metadata": {
        "id": "nfs2Yg_DGVb7"
      }
    },
    {
      "cell_type": "code",
      "source": [
        "5 + \"5\""
      ],
      "metadata": {
        "colab": {
          "base_uri": "https://localhost:8080/",
          "height": 141
        },
        "id": "wsujQ5r_Giek",
        "outputId": "d98d4acf-f577-4b4e-8eb3-3657c86c5d4c"
      },
      "execution_count": 3,
      "outputs": [
        {
          "output_type": "error",
          "ename": "TypeError",
          "evalue": "unsupported operand type(s) for +: 'int' and 'str'",
          "traceback": [
            "\u001b[0;31m---------------------------------------------------------------------------\u001b[0m",
            "\u001b[0;31mTypeError\u001b[0m                                 Traceback (most recent call last)",
            "\u001b[0;32m<ipython-input-3-b265071c056c>\u001b[0m in \u001b[0;36m<cell line: 0>\u001b[0;34m()\u001b[0m\n\u001b[0;32m----> 1\u001b[0;31m \u001b[0;36m5\u001b[0m \u001b[0;34m+\u001b[0m \u001b[0;34m\"5\"\u001b[0m\u001b[0;34m\u001b[0m\u001b[0;34m\u001b[0m\u001b[0m\n\u001b[0m",
            "\u001b[0;31mTypeError\u001b[0m: unsupported operand type(s) for +: 'int' and 'str'"
          ]
        }
      ]
    },
    {
      "cell_type": "markdown",
      "source": [
        "### 字串和字串可以相加、相乘"
      ],
      "metadata": {
        "id": "oB0TochpGqF1"
      }
    },
    {
      "cell_type": "code",
      "source": [
        "\"5\" + \"5\"\n",
        "\"=\" * 10"
      ],
      "metadata": {
        "colab": {
          "base_uri": "https://localhost:8080/",
          "height": 35
        },
        "id": "v9Mo2gxvGuie",
        "outputId": "e61dceca-ce3c-4685-9aae-8bb451bcb255"
      },
      "execution_count": 5,
      "outputs": [
        {
          "output_type": "execute_result",
          "data": {
            "text/plain": [
              "'=========='"
            ],
            "application/vnd.google.colaboratory.intrinsic+json": {
              "type": "string"
            }
          },
          "metadata": {},
          "execution_count": 5
        }
      ]
    },
    {
      "cell_type": "markdown",
      "source": [
        "### 暫時轉換型別"
      ],
      "metadata": {
        "id": "COt0Tk1FHAWx"
      }
    },
    {
      "cell_type": "code",
      "source": [
        "5 + float(\"5\")"
      ],
      "metadata": {
        "colab": {
          "base_uri": "https://localhost:8080/"
        },
        "id": "F-ImQ8o7HGmY",
        "outputId": "292a53eb-8a8b-475c-94ee-49fe61ee8bfa"
      },
      "execution_count": 6,
      "outputs": [
        {
          "output_type": "execute_result",
          "data": {
            "text/plain": [
              "10.0"
            ]
          },
          "metadata": {},
          "execution_count": 6
        }
      ]
    },
    {
      "cell_type": "code",
      "source": [
        "width = float(input(\"請輸入矩型的寬:\")) ##敘述式 ##浮點數\n",
        "height = float(input(\"請輸入矩形的高:\")) ##敘述式 ##浮點數\n",
        "area = width * height ##運算式 ##浮點數\n",
        "print(\"矩形的面積為:\", area) ##運算式 ##Python內建的Function(可以直接用)\n"
      ],
      "metadata": {
        "colab": {
          "base_uri": "https://localhost:8080/"
        },
        "id": "hy4acl2IHltL",
        "outputId": "fa30e6cf-8977-49d4-9c89-3fbcd50fe531"
      },
      "execution_count": 11,
      "outputs": [
        {
          "output_type": "stream",
          "name": "stdout",
          "text": [
            "請輸入矩型的寬:3.33333\n",
            "請輸入矩形的高:3.33333\n",
            "矩形的面積為: 11.111088888900001\n"
          ]
        }
      ]
    },
    {
      "cell_type": "code",
      "source": [
        "import math\n",
        "\n",
        "side = float(input(\"請輸入對邊:\")) ##敘述式 ##浮點數\n",
        "another_side = float(input(\"請輸入鄰邊:\")) ##敘述式 ##浮點數\n",
        "answer = math.sqrt(side ** 2 + another_side ** 2)\n",
        "print(\"斜邊為:\",answer)"
      ],
      "metadata": {
        "id": "_7R_RelYMUWn",
        "outputId": "6faa92d3-c6ed-4756-e10c-07b4d152f410",
        "colab": {
          "base_uri": "https://localhost:8080/"
        }
      },
      "execution_count": 13,
      "outputs": [
        {
          "output_type": "stream",
          "name": "stdout",
          "text": [
            "請輸入對邊:20\n",
            "請輸入鄰邊:30\n",
            "斜邊為: 36.05551275463989\n"
          ]
        }
      ]
    }
  ]
}