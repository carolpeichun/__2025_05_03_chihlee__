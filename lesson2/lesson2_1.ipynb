{
  "nbformat": 4,
  "nbformat_minor": 0,
  "metadata": {
    "colab": {
      "provenance": [],
      "authorship_tag": "ABX9TyNBVkukxxRNjRcw+1MWQSDv",
      "include_colab_link": true
    },
    "kernelspec": {
      "name": "python3",
      "display_name": "Python 3"
    },
    "language_info": {
      "name": "python"
    }
  },
  "cells": [
    {
      "cell_type": "markdown",
      "metadata": {
        "id": "view-in-github",
        "colab_type": "text"
      },
      "source": [
        "<a href=\"https://colab.research.google.com/github/carolpeichun/__2025_05_03_chihlee__/blob/main/lesson2/lesson2_1.ipynb\" target=\"_parent\"><img src=\"https://colab.research.google.com/assets/colab-badge.svg\" alt=\"Open In Colab\"/></a>"
      ]
    },
    {
      "cell_type": "code",
      "execution_count": null,
      "metadata": {
        "id": "1Co69xC8qgHR",
        "outputId": "b6747474-377c-4ae4-ddc6-3432576713b2",
        "colab": {
          "base_uri": "https://localhost:8080/"
        }
      },
      "outputs": [
        {
          "output_type": "execute_result",
          "data": {
            "text/plain": [
              "14"
            ]
          },
          "metadata": {},
          "execution_count": 1
        }
      ],
      "source": [
        "2 + 3 * 4"
      ]
    },
    {
      "cell_type": "code",
      "source": [
        "(2 + 3) * 4"
      ],
      "metadata": {
        "id": "mZYXjrZNrxe8",
        "outputId": "0cd0d888-bd86-467a-9e8f-ba31fe7447dc",
        "colab": {
          "base_uri": "https://localhost:8080/"
        }
      },
      "execution_count": null,
      "outputs": [
        {
          "output_type": "execute_result",
          "data": {
            "text/plain": [
              "20"
            ]
          },
          "metadata": {},
          "execution_count": 2
        }
      ]
    },
    {
      "cell_type": "markdown",
      "source": [
        "- 會做6件事\n",
        "- 運算式->會傳出值\n",
        "\n",
        "**運算子的優先順序**\n",
        "- ()\n",
        "- \\**\n",
        "- \\* / % //\n",
        "- \\+ -\n",
        "- ="
      ],
      "metadata": {
        "id": "u6SmybBqszXw"
      }
    },
    {
      "cell_type": "code",
      "source": [
        "2 * (1 + 2) ** 2 - 2 ** 2 * 2"
      ],
      "metadata": {
        "id": "sxbvKh9msgEt",
        "outputId": "44a8c8af-9a53-416d-a324-9bbfbb1c2ca3",
        "colab": {
          "base_uri": "https://localhost:8080/"
        }
      },
      "execution_count": 5,
      "outputs": [
        {
          "output_type": "execute_result",
          "data": {
            "text/plain": [
              "10"
            ]
          },
          "metadata": {},
          "execution_count": 5
        }
      ]
    },
    {
      "cell_type": "markdown",
      "source": [
        "### 敘述式(statement)->不會傳出值"
      ],
      "metadata": {
        "id": "VyQgRGIUxwPy"
      }
    },
    {
      "cell_type": "code",
      "source": [
        "n = 2 * (1 + 2) ** 2 - 2 ** 2 * 2 ##敘述式\n",
        "\n",
        "n = n * 10 ##敘述式\n",
        "\n",
        "n ##運算式"
      ],
      "metadata": {
        "colab": {
          "base_uri": "https://localhost:8080/"
        },
        "id": "M6eEMtxTxDl4",
        "outputId": "ea920bb2-2637-4677-f35b-6b1805904bcf"
      },
      "execution_count": 11,
      "outputs": [
        {
          "output_type": "execute_result",
          "data": {
            "text/plain": [
              "100"
            ]
          },
          "metadata": {},
          "execution_count": 11
        }
      ]
    },
    {
      "cell_type": "markdown",
      "source": [
        "### (*=) 複合指定運算子"
      ],
      "metadata": {
        "id": "810HipW11znW"
      }
    },
    {
      "cell_type": "code",
      "source": [
        "n = 2 * (1 + 2) ** 2 - 2 ** 2 * 2 ##敘述式\n",
        "\n",
        "n *= 10 ##敘述式 ##複合指定運算子\n",
        "\n",
        "print(n) ##運算式 ##Python內建的Function(函式/函數)(可以直接用)"
      ],
      "metadata": {
        "colab": {
          "base_uri": "https://localhost:8080/"
        },
        "id": "_GT07ZQ715PG",
        "outputId": "a887884e-b17f-4781-df91-fd5b71727e6c"
      },
      "execution_count": 14,
      "outputs": [
        {
          "output_type": "execute_result",
          "data": {
            "text/plain": [
              "100"
            ]
          },
          "metadata": {},
          "execution_count": 14
        }
      ]
    },
    {
      "cell_type": "markdown",
      "source": [
        "input()使用"
      ],
      "metadata": {
        "id": "zticrE8m7kQ9"
      }
    },
    {
      "cell_type": "code",
      "source": [
        "name = input(\"請輸入您的姓名：\") ##敘述式 ##限定一個引數數量\n",
        "print(\"您的名字\",name) ##運算式 ##Python內建的Function(可以直接用) ##不限定引數數量"
      ],
      "metadata": {
        "colab": {
          "base_uri": "https://localhost:8080/"
        },
        "id": "5x0QMaUU7q6V",
        "outputId": "e611abaa-dd30-4f08-a6e7-215e6816a6af"
      },
      "execution_count": 18,
      "outputs": [
        {
          "output_type": "stream",
          "name": "stdout",
          "text": [
            "請輸入您的姓名：Carol\n",
            "您的名字 Carol\n"
          ]
        }
      ]
    },
    {
      "cell_type": "markdown",
      "source": [
        "python是動態型別"
      ],
      "metadata": {
        "id": "AC2ywTasB-I6"
      }
    },
    {
      "cell_type": "code",
      "source": [
        "name = input(\"請輸入您的姓名：\") ##敘述式 ##限定一個引數數量 ##字串型別\n",
        "type(name) ##運算式 ##Python內建的Function(可以直接用)\n",
        "name = 100 ##整數型別\n",
        "type(name) ##運算式 ##Python內建的Function(可以直接用)\n",
        "name = 100.0 ##浮點數型別\n",
        "type(name) ##運算式 ##Python內建的Function(可以直接用)"
      ],
      "metadata": {
        "id": "RwhfnCgeCFmT",
        "outputId": "c152b48f-692a-4d9f-c528-166c833db4ec",
        "colab": {
          "base_uri": "https://localhost:8080/"
        }
      },
      "execution_count": 22,
      "outputs": [
        {
          "name": "stdout",
          "output_type": "stream",
          "text": [
            "請輸入您的姓名：Carol\n"
          ]
        },
        {
          "output_type": "execute_result",
          "data": {
            "text/plain": [
              "float"
            ]
          },
          "metadata": {},
          "execution_count": 22
        }
      ]
    }
  ]
}