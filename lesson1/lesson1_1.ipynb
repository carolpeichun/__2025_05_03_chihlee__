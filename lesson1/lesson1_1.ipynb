{
  "nbformat": 4,
  "nbformat_minor": 0,
  "metadata": {
    "colab": {
      "provenance": [],
      "authorship_tag": "ABX9TyOFc3uC9/eZkmz9QcTUsz/t",
      "include_colab_link": true
    },
    "kernelspec": {
      "name": "python3",
      "display_name": "Python 3"
    },
    "language_info": {
      "name": "python"
    }
  },
  "cells": [
    {
      "cell_type": "markdown",
      "metadata": {
        "id": "view-in-github",
        "colab_type": "text"
      },
      "source": [
        "<a href=\"https://colab.research.google.com/github/carolpeichun/__2025_05_03_chihlee__/blob/main/lesson1/lesson1_1.ipynb\" target=\"_parent\"><img src=\"https://colab.research.google.com/assets/colab-badge.svg\" alt=\"Open In Colab\"/></a>"
      ]
    },
    {
      "cell_type": "markdown",
      "source": [
        "# 大標1\n",
        "## 大標2\n",
        "### 大標3\n",
        "#### 大標4\n",
        "##### 大標5\n",
        "###### 大標6"
      ],
      "metadata": {
        "id": "ZhaXYOIbLOrY"
      }
    },
    {
      "cell_type": "code",
      "execution_count": null,
      "metadata": {
        "colab": {
          "base_uri": "https://localhost:8080/"
        },
        "id": "b2U4H05lCBh1",
        "outputId": "2d62870d-e62c-4958-e198-949491cd4eab"
      },
      "outputs": [
        {
          "output_type": "stream",
          "name": "stdout",
          "text": [
            "Hello! python!\n"
          ]
        }
      ],
      "source": [
        "print(\"Hello! python!\")"
      ]
    }
  ]
}