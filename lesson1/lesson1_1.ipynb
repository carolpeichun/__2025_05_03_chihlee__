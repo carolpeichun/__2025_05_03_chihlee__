{
  "nbformat": 4,
  "nbformat_minor": 0,
  "metadata": {
    "colab": {
      "provenance": [],
      "authorship_tag": "ABX9TyOuwLoVPUhNbaKtzVXfQtKD",
      "include_colab_link": true
    },
    "kernelspec": {
      "name": "python3",
      "display_name": "Python 3"
    },
    "language_info": {
      "name": "python"
    }
  },
  "cells": [
    {
      "cell_type": "markdown",
      "metadata": {
        "id": "view-in-github",
        "colab_type": "text"
      },
      "source": [
        "<a href=\"https://colab.research.google.com/github/carolpeichun/__2025_05_03_chihlee__/blob/main/lesson1/lesson1_1.ipynb\" target=\"_parent\"><img src=\"https://colab.research.google.com/assets/colab-badge.svg\" alt=\"Open In Colab\"/></a>"
      ]
    },
    {
      "cell_type": "markdown",
      "source": [
        "# 大標1\n",
        "## 大標2\n",
        "### 大標3\n",
        "#### 大標4\n",
        "##### 大標5\n",
        "###### 大標6"
      ],
      "metadata": {
        "id": "ZhaXYOIbLOrY"
      }
    },
    {
      "cell_type": "code",
      "execution_count": null,
      "metadata": {
        "colab": {
          "base_uri": "https://localhost:8080/"
        },
        "id": "b2U4H05lCBh1",
        "outputId": "2d62870d-e62c-4958-e198-949491cd4eab"
      },
      "outputs": [
        {
          "output_type": "stream",
          "name": "stdout",
          "text": [
            "Hello! python!\n"
          ]
        }
      ],
      "source": [
        "print(\"Hello! python!\")"
      ]
    },
    {
      "cell_type": "code",
      "source": [
        "99 ** 99"
      ],
      "metadata": {
        "id": "0E0vjkaZQSa4",
        "outputId": "3c8f4485-1b0a-427b-ed40-535f31076e31",
        "colab": {
          "base_uri": "https://localhost:8080/"
        }
      },
      "execution_count": null,
      "outputs": [
        {
          "output_type": "execute_result",
          "data": {
            "text/plain": [
              "369729637649726772657187905628805440595668764281741102430259972423552570455277523421410650010128232727940978889548326540119429996769494359451621570193644014418071060667659301384999779999159200499899"
            ]
          },
          "metadata": {},
          "execution_count": 2
        }
      ]
    },
    {
      "cell_type": "code",
      "source": [
        "print(5 + 5)\n",
        "print(90 - 10)\n",
        "print(4 * 7)\n",
        "print(7 / 2)\n",
        "print(7 // 2)\n",
        "print(7 % 3)\n",
        "print(3 ** 4)"
      ],
      "metadata": {
        "id": "0uM17lVBRIg7",
        "outputId": "45f9ad32-e6d5-4dce-e444-39167a9d1cde",
        "colab": {
          "base_uri": "https://localhost:8080/"
        }
      },
      "execution_count": null,
      "outputs": [
        {
          "output_type": "stream",
          "name": "stdout",
          "text": [
            "10\n",
            "80\n",
            "28\n",
            "3.5\n",
            "3\n",
            "1\n",
            "81\n"
          ]
        }
      ]
    },
    {
      "cell_type": "markdown",
      "source": [
        "**重點** or __重點__\n",
        "*重點* or _重點_\n",
        "~~刪除~~ or ~刪除~\n",
        "<ins>重點</ins>\n",
        "<sub>重點</sub>\n",
        "**重點** and _重點_\n",
        "***重點***\n",
        "<sup>重點</sup>\n",
        ">重點\n",
        "\n",
        "```\n",
        "重點\n",
        "```\n",
        "`重點`\n",
        "`#ffffff`\n",
        "`#000000`"
      ],
      "metadata": {
        "id": "swFPzbd0AHqf"
      }
    }
  ]
}