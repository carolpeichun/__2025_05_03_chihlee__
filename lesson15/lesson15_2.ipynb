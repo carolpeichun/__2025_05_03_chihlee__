{
 "cells": [
  {
   "cell_type": "code",
   "execution_count": 2,
   "id": "e89aaa4d",
   "metadata": {},
   "outputs": [
    {
     "name": "stdout",
     "output_type": "stream",
     "text": [
      "正在下載 2330.TW 的資料...\n"
     ]
    },
    {
     "name": "stderr",
     "output_type": "stream",
     "text": [
      "[*********************100%***********************]  1 of 1 completed\n"
     ]
    },
    {
     "name": "stdout",
     "output_type": "stream",
     "text": [
      "成功儲存新資料至 'dataUpdated\\2330_2025-07-04.csv'\n",
      "已刪除舊檔案: dataUpdated\\2330_2025-06-27.csv\n",
      "正在下載 2303.TW 的資料...\n"
     ]
    },
    {
     "name": "stderr",
     "output_type": "stream",
     "text": [
      "[*********************100%***********************]  1 of 1 completed\n"
     ]
    },
    {
     "name": "stdout",
     "output_type": "stream",
     "text": [
      "成功儲存新資料至 'dataUpdated\\2303_2025-07-04.csv'\n",
      "已刪除舊檔案: dataUpdated\\2303_2025-06-27.csv\n",
      "正在下載 2454.TW 的資料...\n"
     ]
    },
    {
     "name": "stderr",
     "output_type": "stream",
     "text": [
      "[*********************100%***********************]  1 of 1 completed\n"
     ]
    },
    {
     "name": "stdout",
     "output_type": "stream",
     "text": [
      "成功儲存新資料至 'dataUpdated\\2454_2025-07-04.csv'\n",
      "已刪除舊檔案: dataUpdated\\2454_2025-06-27.csv\n",
      "正在下載 2317.TW 的資料...\n"
     ]
    },
    {
     "name": "stderr",
     "output_type": "stream",
     "text": [
      "[*********************100%***********************]  1 of 1 completed"
     ]
    },
    {
     "name": "stdout",
     "output_type": "stream",
     "text": [
      "成功儲存新資料至 'dataUpdated\\2317_2025-07-04.csv'\n",
      "已刪除舊檔案: dataUpdated\\2317_2025-06-27.csv\n",
      "已讀取並處理檔案: 2330_2025-07-04.csv\n",
      "已讀取並處理檔案: 2303_2025-07-04.csv\n",
      "已讀取並處理檔案: 2454_2025-07-04.csv\n",
      "已讀取並處理檔案: 2317_2025-07-04.csv\n",
      "\n",
      "==================== 合併後的收盤價資料 (最後5筆) ====================\n",
      "               台積電                  聯電                 聯發科                鴻海\n",
      "Date                                                                        \n",
      "2025-07-01  1085.0   43.95000076293945  1250.3861083984375             165.5\n",
      "2025-07-02  1085.0   44.45000076293945              1270.0             162.0\n",
      "2025-07-03  1090.0  44.400001525878906              1270.0             164.0\n",
      "2025-07-04  1085.0               43.75              1290.0             161.0\n",
      "2000-01-03     NaN                 NaN                 NaN  24.8126163482666\n",
      "======================================================================\n"
     ]
    },
    {
     "name": "stderr",
     "output_type": "stream",
     "text": [
      "\n"
     ]
    }
   ],
   "source": [
    "import yfinance as yf\n",
    "from datetime import datetime, timedelta\n",
    "import os\n",
    "import pandas as pd\n",
    "\n",
    "def download_data():\n",
    "    \"\"\"\n",
    "    每日下載指定股票的資料，並儲存為CSV檔。\n",
    "\n",
    "    1. 股票代碼: 2330.TW, 2303.TW, 2454.TW, 2317.TW\n",
    "    2. 檔案會儲存在 'data' 資料夾內。\n",
    "    3. 檔案名稱格式為 '代碼_YYYY-MM-DD.csv' (例如: 2330_2023-10-27.csv)。\n",
    "    4. 如果當日的檔案已存在，則不會重複下載。\n",
    "    5. 每次成功下載新檔案後，會刪除該股票對應的舊日期檔案，確保只保留最新的一份。    \n",
    "    6. 如果下載日無交易資料 (如假日)，則會省略不建立新檔案。\n",
    "    7. 檔案名稱會以資料本身的最新日期來命名，確保檔名與內容一致。\n",
    "    8. 在非交易日執行時，程式會偵測到資料已是最新而跳過，不會產生重複或無效的檔案。\n",
    "    \"\"\"\n",
    "    # 設定股票列表和資料夾名稱\n",
    "    STOCKS = ['2330.TW', '2303.TW', '2454.TW', '2317.TW']\n",
    "    DATA_DIR = 'dataUpdated'\n",
    "    START_DATE = '2000-01-01'\n",
    "\n",
    "    # 確保資料夾存在\n",
    "    os.makedirs(DATA_DIR, exist_ok=True)\n",
    "\n",
    "    # 獲取今天的日期\n",
    "    today = datetime.now()\n",
    "    # 為了確保能抓到包含今天在內的最新資料，yf.download 的結束日期 (end) 參數需要設定為明天\n",
    "    tomorrow = today + timedelta(days=1)\n",
    "    end_date_str = tomorrow.strftime('%Y-%m-%d')\n",
    "\n",
    "    for ticker in STOCKS:\n",
    "        stock_code = ticker.split('.')[0]\n",
    "                \n",
    "        # 1. 下載資料\n",
    "        print(f\"正在下載 {ticker} 的資料...\")\n",
    "        try:\n",
    "            # 使用 end_date_str (明天) 作為結束日期，才能確保下載到今天 (today_str) 的資料\n",
    "            data = yf.download(ticker, start=START_DATE, end=end_date_str, auto_adjust=True)\n",
    "            \n",
    "            # 增加對索引的檢查，確保資料不僅存在，而且包含日期索引\n",
    "            if data.empty or len(data.index) == 0:\n",
    "                print(f\"警告：找不到 {ticker} 的任何有效資料，跳過。\")\n",
    "                continue\n",
    "            \n",
    "            # 2. 以資料的「最新日期」來產生檔名\n",
    "            latest_date_str = data.index[-1].strftime('%Y-%m-%d')\n",
    "            new_filename = f\"{stock_code}_{latest_date_str}.csv\"\n",
    "            new_filepath = os.path.join(DATA_DIR, new_filename)\n",
    "\n",
    "            # 3. 檢查最新資料的檔案是否已存在，若已存在則代表資料已是最新，直接跳過\n",
    "            if os.path.exists(new_filepath):\n",
    "                print(f\"資料已是最新 ({latest_date_str})，檔案 '{new_filename}' 已存在，無需更新。\")\n",
    "                continue\n",
    "            \n",
    "            # 4. 儲存新檔案\n",
    "            data.to_csv(new_filepath)\n",
    "            print(f\"成功儲存新資料至 '{new_filepath}'\")\n",
    "\n",
    "            # 5. 刪除此股票的所有其他舊檔案\n",
    "            for filename in os.listdir(DATA_DIR):\n",
    "                if filename.startswith(f\"{stock_code}_\") and filename.endswith(\".csv\") and filename != new_filename:\n",
    "                    old_filepath = os.path.join(DATA_DIR, filename)\n",
    "                    os.remove(old_filepath)\n",
    "                    print(f\"已刪除舊檔案: {old_filepath}\")\n",
    "        except Exception as e:\n",
    "            print(f\"下載 {ticker} 時發生錯誤: {e}\")\n",
    "\n",
    "def create_close_price_df():\n",
    "    \"\"\"\n",
    "    讀取 dataUpdated 資料夾中最新的個股 CSV 檔，並將收盤價整合成一個 DataFrame。\n",
    "\n",
    "    Returns:\n",
    "        pandas.DataFrame: 包含所有股票收盤價的 DataFrame，若無資料則回傳空的 DataFrame。\n",
    "    \"\"\"\n",
    "    DATA_DIR = 'dataUpdated'\n",
    "    STOCK_MAP = {\n",
    "        '2330': '台積電',\n",
    "        '2303': '聯電',\n",
    "        '2454': '聯發科',\n",
    "        '2317': '鴻海'\n",
    "    }\n",
    "\n",
    "    all_close_series = []\n",
    "    \n",
    "    if not os.path.exists(DATA_DIR):\n",
    "        print(f\"錯誤：資料夾 '{DATA_DIR}' 不存在。請先執行 download_data()。\")\n",
    "        return pd.DataFrame()\n",
    "\n",
    "    for stock_code, stock_name in STOCK_MAP.items():\n",
    "        # 尋找該股票的所有CSV檔案\n",
    "        try:\n",
    "            files = [f for f in os.listdir(DATA_DIR) if f.startswith(f\"{stock_code}_\") and f.endswith(\".csv\")]\n",
    "            if not files:\n",
    "                print(f\"警告：在 '{DATA_DIR}' 中找不到 {stock_code} ({stock_name}) 的任何檔案。\")\n",
    "                continue\n",
    "\n",
    "            # 根據檔名排序找到最新的檔案\n",
    "            latest_file = sorted(files)[-1]\n",
    "            filepath = os.path.join(DATA_DIR, latest_file)\n",
    "            \n",
    "            # 修正：讀取CSV時，直接將第一欄(column 0)設為索引，這樣更穩健，可避免 'Date' not in list 的錯誤\n",
    "            df = pd.read_csv(filepath, index_col=0, parse_dates=[0], date_format='%Y-%m-%d')            \n",
    "            # 為了保持資料結構的一致性，手動將索引的名稱設為 'Date'\n",
    "            df.index.name = 'Date'\n",
    "            \n",
    "            # 擷取'Close'欄位，並重新命名為中文名稱\n",
    "            close_series = df['Close'].rename(stock_name)\n",
    "            all_close_series.append(close_series)\n",
    "            print(f\"已讀取並處理檔案: {latest_file}\")\n",
    "\n",
    "        except Exception as e:\n",
    "            print(f\"處理 {stock_code} 的檔案時發生錯誤: {e}\")\n",
    "\n",
    "    if not all_close_series:\n",
    "        print(\"沒有成功讀取任何股票資料，無法合併。\")\n",
    "        return pd.DataFrame()\n",
    "\n",
    "    # 將所有 Series 合併成一個 DataFrame，日期會自動對齊\n",
    "    # 缺失的日期會自動填上 NaN (顯示為空白)\n",
    "    combined_df = pd.concat(all_close_series, axis=1)\n",
    "    \n",
    "    return combined_df\n",
    "\n",
    "def main():\n",
    "    download_data()\n",
    "    \n",
    "    # 建立並顯示合併後的收盤價 DataFrame\n",
    "    close_df = create_close_price_df()\n",
    "    if not close_df.empty:\n",
    "        print(\"\\n==================== 合併後的收盤價資料 (最後5筆) ====================\")\n",
    "        print(close_df.tail())\n",
    "        print(\"======================================================================\")\n",
    "\n",
    "if __name__ == '__main__':\n",
    "    main()"
   ]
  }
 ],
 "metadata": {
  "kernelspec": {
   "display_name": "chihlee1",
   "language": "python",
   "name": "python3"
  },
  "language_info": {
   "codemirror_mode": {
    "name": "ipython",
    "version": 3
   },
   "file_extension": ".py",
   "mimetype": "text/x-python",
   "name": "python",
   "nbconvert_exporter": "python",
   "pygments_lexer": "ipython3",
   "version": "3.10.18"
  }
 },
 "nbformat": 4,
 "nbformat_minor": 5
}
