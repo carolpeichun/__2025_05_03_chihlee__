{
 "cells": [
  {
   "cell_type": "markdown",
   "id": "e6e61a0a",
   "metadata": {},
   "source": [
    "https://www.perplexity.ai/search/045ecda7-23bf-4d76-9155-fcb886e2425e"
   ]
  },
  {
   "cell_type": "code",
   "execution_count": null,
   "id": "6bb9d6c3",
   "metadata": {},
   "outputs": [
    {
     "data": {
      "text/plain": [
       "array([[0.5703056 , 0.14450869, 0.22059959, 0.43586192],\n",
       "       [0.26748702, 0.61242927, 0.8996238 , 0.18755508],\n",
       "       [0.86087271, 0.72962408, 0.31111081, 0.12264381]])"
      ]
     },
     "execution_count": 9,
     "metadata": {},
     "output_type": "execute_result"
    }
   ],
   "source": [
    "import numpy as np\n",
    "np.random.random()          #np.random.random() → package(套件).module(模組).function(方法)\n",
    "np.random.random(3)         #module裡有function、class、常數\n",
    "np.random.random(size=3)    #實體裡有屬性、方法\n",
    "np.random.random((3, 4))\n",
    "np.random.random(size=(3, 4))"
   ]
  },
  {
   "cell_type": "code",
   "execution_count": null,
   "id": "af9968ef",
   "metadata": {},
   "outputs": [
    {
     "data": {
      "text/plain": [
       "dtype('float64')"
      ]
     },
     "execution_count": 22,
     "metadata": {},
     "output_type": "execute_result"
    }
   ],
   "source": [
    "from numpy.random import normal\n",
    "\n",
    "normal_value = normal(size=(3, 4))\n",
    "#ndarray常用的實體屬性 \n",
    "type(normal_value)\n",
    "normal_value.ndim   \n",
    "normal_value.size\n",
    "normal_value.shape\n",
    "normal_value.dtype"
   ]
  },
  {
   "cell_type": "code",
   "execution_count": 18,
   "id": "b6c1cd4f",
   "metadata": {},
   "outputs": [
    {
     "data": {
      "text/plain": [
       "array([[ -5.72651742, -11.99089203, -17.8558741 ,   5.11194678],\n",
       "       [ 20.68694188,   0.27229851,   7.52801943, -12.73269973],\n",
       "       [  6.43644441,  -8.79726845,   5.88568301,  -1.31356543]])"
      ]
     },
     "execution_count": 18,
     "metadata": {},
     "output_type": "execute_result"
    }
   ],
   "source": [
    "#ndarray, 陣列運算\n",
    "normal_value * 10"
   ]
  },
  {
   "cell_type": "code",
   "execution_count": null,
   "id": "14869f5d",
   "metadata": {},
   "outputs": [
    {
     "data": {
      "text/plain": [
       "array([-3.04613368,  1.57545601,  0.22112935])"
      ]
     },
     "execution_count": 21,
     "metadata": {},
     "output_type": "execute_result"
    }
   ],
   "source": [
    "#ndarray, 統計方法 \n",
    "normal_value.sum()\n",
    "normal_value.sum(axis=0)    #加總normal_value縱向的值, 故會出來4個值\n",
    "normal_value.sum(axis=1)    #加總normal_value橫向的值, 故會出來3個值"
   ]
  }
 ],
 "metadata": {
  "kernelspec": {
   "display_name": "chihlee1",
   "language": "python",
   "name": "python3"
  },
  "language_info": {
   "codemirror_mode": {
    "name": "ipython",
    "version": 3
   },
   "file_extension": ".py",
   "mimetype": "text/x-python",
   "name": "python",
   "nbconvert_exporter": "python",
   "pygments_lexer": "ipython3",
   "version": "3.10.18"
  }
 },
 "nbformat": 4,
 "nbformat_minor": 5
}
