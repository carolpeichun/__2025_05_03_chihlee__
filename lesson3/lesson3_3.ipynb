{
  "nbformat": 4,
  "nbformat_minor": 0,
  "metadata": {
    "colab": {
      "provenance": [],
      "authorship_tag": "ABX9TyNm6l0D3vrneO4rWdPH858+",
      "include_colab_link": true
    },
    "kernelspec": {
      "name": "python3",
      "display_name": "Python 3"
    },
    "language_info": {
      "name": "python"
    }
  },
  "cells": [
    {
      "cell_type": "markdown",
      "metadata": {
        "id": "view-in-github",
        "colab_type": "text"
      },
      "source": [
        "<a href=\"https://colab.research.google.com/github/carolpeichun/__2025_05_03_chihlee__/blob/main/lesson3/lesson3_3.ipynb\" target=\"_parent\"><img src=\"https://colab.research.google.com/assets/colab-badge.svg\" alt=\"Open In Colab\"/></a>"
      ]
    },
    {
      "cell_type": "markdown",
      "source": [
        "# python for迴圈的說明\n",
        "請輸出繁體中文\n",
        "\n",
        "---\n",
        "Python 中的 for 迴圈是一種用來遍歷（迭代）集合中每個元素的控制結構，常用於對清單、字串、元組、字典、集合等可迭代物件進行重複操作。其基本語法如下：\n",
        "\n",
        "```\n",
        "for 變數 in 集合:\n",
        "    # 迴圈內要執行的程式碼\n",
        "\n",
        "```"
      ],
      "metadata": {
        "id": "bFF8LFeJRJOq"
      }
    },
    {
      "cell_type": "code",
      "execution_count": 1,
      "metadata": {
        "id": "3eDv73P8RAAQ",
        "outputId": "852cda03-0f84-46ae-a7eb-6166b2104352",
        "colab": {
          "base_uri": "https://localhost:8080/"
        }
      },
      "outputs": [
        {
          "output_type": "execute_result",
          "data": {
            "text/plain": [
              "55"
            ]
          },
          "metadata": {},
          "execution_count": 1
        }
      ],
      "source": [
        "#為何要for迴圈\n",
        "#1加到10\n",
        "\n",
        "n = 0\n",
        "n += 1\n",
        "n += 2\n",
        "n += 3\n",
        "n += 4\n",
        "n += 5\n",
        "n += 6\n",
        "n += 7\n",
        "n += 8\n",
        "n += 9\n",
        "n += 10\n",
        "n"
      ]
    },
    {
      "cell_type": "code",
      "source": [
        "x = 0\n",
        "for n in range(1,101): #101-1=100(會跑100次)\n",
        "  x += n\n",
        "x"
      ],
      "metadata": {
        "id": "9zVfWYOtTJl3",
        "outputId": "743c7b16-3546-42dc-eb45-7b082cddd063",
        "colab": {
          "base_uri": "https://localhost:8080/"
        }
      },
      "execution_count": 5,
      "outputs": [
        {
          "output_type": "execute_result",
          "data": {
            "text/plain": [
              "5050"
            ]
          },
          "metadata": {},
          "execution_count": 5
        }
      ]
    }
  ]
}