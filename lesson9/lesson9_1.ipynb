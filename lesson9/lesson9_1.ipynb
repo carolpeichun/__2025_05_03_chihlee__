{
 "cells": [
  {
   "cell_type": "markdown",
   "id": "62ebdbba",
   "metadata": {},
   "source": [
    "https://www.perplexity.ai/search/216f82f2-9e19-4f29-bb0e-bdbfb083b51b"
   ]
  },
  {
   "cell_type": "code",
   "execution_count": null,
   "id": "bbe83c1d",
   "metadata": {},
   "outputs": [],
   "source": [
    "# 使用 with 語法開啟檔案，確保讀取完後自動關閉檔案\n",
    "with open(\"names.txt\", \"r\", encoding=\"utf-8\") as f:\n",
    "    content = f.read()  # 一次讀取全部內容，回傳字串\n",
    "    print(content)"
   ]
  },
  {
   "cell_type": "code",
   "execution_count": null,
   "id": "a234256d",
   "metadata": {},
   "outputs": [],
   "source": [
    "file = open(\"names.txt\", encoding=\"utf-8\")\n",
    "print(file.read())     #file是一個實體, 要執行file, 要用實體屬性/方法\n",
    "file.close()"
   ]
  },
  {
   "cell_type": "code",
   "execution_count": null,
   "id": "5a4f51c0",
   "metadata": {},
   "outputs": [],
   "source": [
    "with open(\"names.txt\", encoding=\"utf-8\") as file:\n",
    "    names:list = file.readlines()   #將file實體轉出成一個list, 取變數名稱names, 變數名稱+\":list\"(typehint提示型別, 是在提醒這是什麼型別)\n",
    "    print(len(names))"
   ]
  },
  {
   "cell_type": "code",
   "execution_count": null,
   "id": "c6cbd6d9",
   "metadata": {},
   "outputs": [],
   "source": [
    "for name in names:\n",
    "    print(name)"
   ]
  }
 ],
 "metadata": {
  "kernelspec": {
   "display_name": "chihlee1",
   "language": "python",
   "name": "python3"
  },
  "language_info": {
   "codemirror_mode": {
    "name": "ipython",
    "version": 3
   },
   "file_extension": ".py",
   "mimetype": "text/x-python",
   "name": "python",
   "nbconvert_exporter": "python",
   "pygments_lexer": "ipython3",
   "version": "3.10.18"
  }
 },
 "nbformat": 4,
 "nbformat_minor": 5
}
