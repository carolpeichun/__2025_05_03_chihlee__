{
  "nbformat": 4,
  "nbformat_minor": 0,
  "metadata": {
    "colab": {
      "provenance": [],
      "authorship_tag": "ABX9TyNuBHjED8G5WLFXpi4XOXHr",
      "include_colab_link": true
    },
    "kernelspec": {
      "name": "python3",
      "display_name": "Python 3"
    },
    "language_info": {
      "name": "python"
    }
  },
  "cells": [
    {
      "cell_type": "markdown",
      "metadata": {
        "id": "view-in-github",
        "colab_type": "text"
      },
      "source": [
        "<a href=\"https://colab.research.google.com/github/carolpeichun/__2025_05_03_chihlee__/blob/main/lesson4/lesson4_1.ipynb\" target=\"_parent\"><img src=\"https://colab.research.google.com/assets/colab-badge.svg\" alt=\"Open In Colab\"/></a>"
      ]
    },
    {
      "cell_type": "code",
      "execution_count": 4,
      "metadata": {
        "id": "6AKdqs7ZrdOo",
        "colab": {
          "base_uri": "https://localhost:8080/"
        },
        "outputId": "4fbaea23-9d6e-45bc-da4c-d1d332b45cff"
      },
      "outputs": [
        {
          "output_type": "stream",
          "name": "stdout",
          "text": [
            "45\n",
            "92\n",
            "78\n",
            "50\n",
            "69\n"
          ]
        }
      ],
      "source": [
        "#for in 迴圈\n",
        "#list串列資料 #中括號 #Sequence順序的 #mutable可變的 #永久的資料 #中/重量資料佔記憶體(速度慢)\n",
        "for i in [45, 92, 78, 50, 69]:\n",
        "  print(i)  #取值括號(小一號)"
      ]
    },
    {
      "cell_type": "code",
      "source": [
        "#for in 迴圈\n",
        "#tuple串列資料 #小括號 Sequence順序的 #immutable不可變的 #暫時的資料 #輕量資料不佔記憶體(速度快)\n",
        "for i in (45, 92, 78, 50, 69):\n",
        "  print(i)  #取值括號=最小括號"
      ],
      "metadata": {
        "colab": {
          "base_uri": "https://localhost:8080/"
        },
        "id": "tk0VNWhIvWiu",
        "outputId": "304be6da-5a14-41a7-cb73-5b2a8582657c"
      },
      "execution_count": 5,
      "outputs": [
        {
          "output_type": "stream",
          "name": "stdout",
          "text": [
            "45\n",
            "92\n",
            "78\n",
            "50\n",
            "69\n"
          ]
        }
      ]
    },
    {
      "cell_type": "markdown",
      "source": [
        "# python list和tuple有何差別\n",
        "\n",
        "---\n",
        "Python 中 list（串列）和 tuple（元組）的主要差別如下：\n",
        "\n",
        "- **1 可變性（Mutable vs Immutable）**\n",
        "- list 是可變的（mutable），可以在建立後修改內容，包括新增、刪除、改變元素。\n",
        "- tuple 是不可變的（immutable），一旦建立後，內容無法更改，不能新增、刪除或修改元素。\n",
        "- **2 語法表示**\n",
        "- list 使用中括號 [] 表示，例如：``\n",
        "- tuple 使用小括號 () 表示，例如：`(1, 2, 3)`。\n",
        "- **3性能差異**\n",
        "- tuple 較輕量，因為不可變，佔用較少記憶體且存取速度較快。\n",
        "- list 由於可變，佔用較多記憶體，操作時可能較慢。\n",
        "- **4 使用情境**\n",
        "- list 適合需要頻繁修改資料的場合，如新增或刪除元素。\n",
        "- tuple 適合用於資料不需變動且需保護資料不被意外修改的情況，或作為函式間傳遞不可變資料的結構。\n",
        "\n",
        "- 其他特性\n",
        "- tuple 可用於具名元組（namedtuple），提供類似記錄（record）的功能，便於管理異質資料。\n",
        "- list 支援較多的內建方法，如 append、extend、remove 等，tuple 則不支援這些修改型方法。"
      ],
      "metadata": {
        "id": "hBO8tHIKvfl4"
      }
    },
    {
      "cell_type": "markdown",
      "source": [
        "# python 詞典物件介紹\n",
        "\n",
        "---\n",
        "\n",
        "Python 的詞典（Dictionary）是一種非常重要且常用的資料結構，用來儲存一組「鍵（Key）-值（Value）」對，類似於一個關聯陣列或映射表。以下是詞典物件的詳細介紹：\n",
        "\n",
        "#### Python 詞典（Dictionary）介紹\n",
        "**基本概念**\n",
        "\n",
        "- 詞典由多個鍵值對組成，每個鍵對應一個值，透過鍵可以快速存取對應的值。\n",
        "- 鍵必須是不可變的資料型態，如字串、數字或不可變元組（tuple），且鍵在詞典中是唯一的。\n",
        "- 值可以是任意的 Python 物件，包括數字、字串、串列、甚至是另一個詞典。\n",
        "- 詞典本身是可變的，允許新增、修改或刪除鍵值對。\n",
        "- Python 3.7 以後的版本中，詞典保持插入順序（有順序性），但在更早版本中詞典是無序的"
      ],
      "metadata": {
        "id": "WeV7EYcwycBF"
      }
    },
    {
      "cell_type": "code",
      "source": [
        "#Dictionary詞典資料 #大括號 #map資料類型\n",
        "desserts = {'Muffin': 39, 'Scone': 25, 'Biscuit': 20}\n",
        "desserts[\"Muffin\"]  #取值括號(小一號)\n",
        "desserts[\"Biscuit\"]  #取值括號(小一號)"
      ],
      "metadata": {
        "colab": {
          "base_uri": "https://localhost:8080/"
        },
        "id": "6U7t_mQSxXrp",
        "outputId": "3d1de8f8-6d54-4c41-8f04-3d4a71cca466"
      },
      "execution_count": 6,
      "outputs": [
        {
          "output_type": "execute_result",
          "data": {
            "text/plain": [
              "20"
            ]
          },
          "metadata": {},
          "execution_count": 6
        }
      ]
    },
    {
      "cell_type": "code",
      "source": [
        "#建立Dictionary詞典資料\n",
        "stu1 = {\"name\":\"robert\",\n",
        "        \"chinese\": 78,\n",
        "        \"english\": 98,\n",
        "        \"math\": 73}\n",
        "\n",
        "stu2 = {\"name\":\"alice\",\n",
        "        \"chinese\": 72,\n",
        "        \"english\": 88,\n",
        "        \"math\": 63}\n",
        "\n",
        "stu3 = {\"name\":\"jenny\",\n",
        "        \"chinese\": 65,\n",
        "        \"english\": 78,\n",
        "        \"math\": 93}"
      ],
      "metadata": {
        "id": "RtOP1IHhzmYF"
      },
      "execution_count": 21,
      "outputs": []
    },
    {
      "cell_type": "code",
      "source": [
        "#查資料類型\n",
        "type(stu1)"
      ],
      "metadata": {
        "colab": {
          "base_uri": "https://localhost:8080/"
        },
        "id": "3LeA5vQP0dTP",
        "outputId": "a1eb734b-3337-4c59-d410-e3a2834c736e"
      },
      "execution_count": 22,
      "outputs": [
        {
          "output_type": "execute_result",
          "data": {
            "text/plain": [
              "dict"
            ]
          },
          "metadata": {},
          "execution_count": 22
        }
      ]
    },
    {
      "cell_type": "code",
      "source": [
        "#列出Dictionary詞典資料一 #使用list\n",
        "students = [stu1, stu2, stu3]\n",
        "students"
      ],
      "metadata": {
        "colab": {
          "base_uri": "https://localhost:8080/"
        },
        "id": "_rbvu-5v0u44",
        "outputId": "ed22164e-0126-402b-a5dd-99bb5ead72a5"
      },
      "execution_count": 23,
      "outputs": [
        {
          "output_type": "execute_result",
          "data": {
            "text/plain": [
              "[{'name': 'robert', 'chinese': 78, 'english': 98, 'math': 73},\n",
              " {'name': 'alice', 'chinese': 72, 'english': 88, 'math': 63},\n",
              " {'name': 'jenny', 'chinese': 65, 'english': 78, 'math': 93}]"
            ]
          },
          "metadata": {},
          "execution_count": 23
        }
      ]
    },
    {
      "cell_type": "code",
      "source": [
        "#列出Dictionary詞典資料二 #使用for in迴圈 #Way 1\n",
        "for student in students:\n",
        "  print(student)"
      ],
      "metadata": {
        "colab": {
          "base_uri": "https://localhost:8080/"
        },
        "id": "P6oX0BWc1ZRI",
        "outputId": "a81e5624-6c8e-46cf-ad63-9166b5fda60d"
      },
      "execution_count": 24,
      "outputs": [
        {
          "output_type": "stream",
          "name": "stdout",
          "text": [
            "{'name': 'robert', 'chinese': 78, 'english': 98, 'math': 73}\n",
            "{'name': 'alice', 'chinese': 72, 'english': 88, 'math': 63}\n",
            "{'name': 'jenny', 'chinese': 65, 'english': 78, 'math': 93}\n"
          ]
        }
      ]
    },
    {
      "cell_type": "code",
      "source": [
        "#列出Dictionary詞典資料二 #使用for in迴圈 #Way 2\n",
        "for student in students:\n",
        "  print(\"姓名:\",student[\"name\"])\n",
        "  print(\"國文:\",student[\"chinese\"])\n",
        "  print(\"英文:\",student[\"english\"])\n",
        "  print(\"數學:\",student[\"math\"])\n",
        "  print(\"======================\")"
      ],
      "metadata": {
        "colab": {
          "base_uri": "https://localhost:8080/"
        },
        "id": "0Qd3Z5Gt2G9x",
        "outputId": "19d02091-ce6d-4765-bfe3-a6c15c794330"
      },
      "execution_count": 25,
      "outputs": [
        {
          "output_type": "stream",
          "name": "stdout",
          "text": [
            "姓名: robert\n",
            "國文: 78\n",
            "英文: 98\n",
            "數學: 73\n",
            "======================\n",
            "姓名: alice\n",
            "國文: 72\n",
            "英文: 88\n",
            "數學: 63\n",
            "======================\n",
            "姓名: jenny\n",
            "國文: 65\n",
            "英文: 78\n",
            "數學: 93\n",
            "======================\n"
          ]
        }
      ]
    }
  ]
}