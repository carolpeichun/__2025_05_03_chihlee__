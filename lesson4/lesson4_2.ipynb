{
  "nbformat": 4,
  "nbformat_minor": 0,
  "metadata": {
    "colab": {
      "provenance": [],
      "authorship_tag": "ABX9TyOem06uDO2WOP09/gWgw2FG",
      "include_colab_link": true
    },
    "kernelspec": {
      "name": "python3",
      "display_name": "Python 3"
    },
    "language_info": {
      "name": "python"
    }
  },
  "cells": [
    {
      "cell_type": "markdown",
      "metadata": {
        "id": "view-in-github",
        "colab_type": "text"
      },
      "source": [
        "<a href=\"https://colab.research.google.com/github/carolpeichun/__2025_05_03_chihlee__/blob/main/lesson4/lesson4_2.ipynb\" target=\"_parent\"><img src=\"https://colab.research.google.com/assets/colab-badge.svg\" alt=\"Open In Colab\"/></a>"
      ]
    },
    {
      "cell_type": "markdown",
      "source": [
        "# python while迴圈說明\n",
        "\n",
        "---\n",
        "\n",
        "Python 的 while 迴圈用來根據條件判斷，重複執行某段程式碼，直到條件不成立為止。其基本語法如下：\n",
        "\n",
        "```\n",
        "while 條件:\n",
        "    程式區塊\n",
        "```\n",
        "\n",
        "•\t當條件為 True 時，會執行縮排的程式區塊。  \n",
        "•\t每次執行完程式區塊後，會再次檢查條件，若仍為 True，則繼續執行迴圈。  \n",
        "•\t當條件變為 False，迴圈結束，程式往下繼續執行。"
      ],
      "metadata": {
        "id": "RvuSwhGo8JyW"
      }
    },
    {
      "cell_type": "code",
      "source": [
        "#while迴圈 #無法確定執行的次數\n",
        "#避免while迴圈進入無限迴圈３步驟：1.宣告變數(控制while執行與否) 2.比較變數(下條件) 3.改變變數的值(更新1已宣告的變數)\n",
        "count = 1\n",
        "while count <= 5:\n",
        "  print(count)\n",
        "  count += 1"
      ],
      "metadata": {
        "colab": {
          "base_uri": "https://localhost:8080/"
        },
        "id": "aPoJDgiBDbXS",
        "outputId": "f9bf9134-4c34-49da-dda2-031b3050170f"
      },
      "execution_count": 5,
      "outputs": [
        {
          "output_type": "stream",
          "name": "stdout",
          "text": [
            "1\n",
            "2\n",
            "3\n",
            "4\n",
            "5\n"
          ]
        }
      ]
    },
    {
      "cell_type": "code",
      "source": [
        "#while迴圈 #無法確定執行的次數\n",
        "#避免while迴圈進入無限迴圈３步驟：1.宣告變數(控制while執行與否) 2.比較變數(下條件) 3.改變變數的值(更新1已宣告的變數)\n",
        "#break：中斷迴圈\n",
        "#continue：跳到下一輪\n",
        "#while bool→while True：不需比較，直接進入迴圈\n",
        "total = 0\n",
        "while True:\n",
        "  num = int(input(\"請輸入一個數字 (輸入 0 結束):\"))\n",
        "  if num == 0:\n",
        "    break\n",
        "  total += num\n",
        "print(\"總和:\", total)"
      ],
      "metadata": {
        "colab": {
          "base_uri": "https://localhost:8080/"
        },
        "id": "e4qaSsn-EvSo",
        "outputId": "6d87aa66-01ba-4967-ecd2-acb0392a323d"
      },
      "execution_count": 16,
      "outputs": [
        {
          "output_type": "stream",
          "name": "stdout",
          "text": [
            "請輸入一個數字 (輸入 0 結束):5\n",
            "請輸入一個數字 (輸入 0 結束):10\n",
            "請輸入一個數字 (輸入 0 結束):0\n",
            "總和: 15\n"
          ]
        }
      ]
    }
  ]
}