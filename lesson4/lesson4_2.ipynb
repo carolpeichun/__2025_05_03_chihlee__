{
  "nbformat": 4,
  "nbformat_minor": 0,
  "metadata": {
    "colab": {
      "provenance": [],
      "authorship_tag": "ABX9TyNnincn4jqXX6ggTWrtfE+n",
      "include_colab_link": true
    },
    "kernelspec": {
      "name": "python3",
      "display_name": "Python 3"
    },
    "language_info": {
      "name": "python"
    }
  },
  "cells": [
    {
      "cell_type": "markdown",
      "metadata": {
        "id": "view-in-github",
        "colab_type": "text"
      },
      "source": [
        "<a href=\"https://colab.research.google.com/github/carolpeichun/__2025_05_03_chihlee__/blob/main/lesson4/lesson4_2.ipynb\" target=\"_parent\"><img src=\"https://colab.research.google.com/assets/colab-badge.svg\" alt=\"Open In Colab\"/></a>"
      ]
    },
    {
      "cell_type": "markdown",
      "source": [
        "# python while迴圈說明\n",
        "\n",
        "---\n",
        "\n",
        "Python 的 while 迴圈用來根據條件判斷，重複執行某段程式碼，直到條件不成立為止。其基本語法如下：\n",
        "\n",
        "```\n",
        "while 條件:\n",
        "    程式區塊\n",
        "```\n",
        "\n",
        "•\t當條件為 True 時，會執行縮排的程式區塊。  \n",
        "•\t每次執行完程式區塊後，會再次檢查條件，若仍為 True，則繼續執行迴圈。  \n",
        "•\t當條件變為 False，迴圈結束，程式往下繼續執行。"
      ],
      "metadata": {
        "id": "RvuSwhGo8JyW"
      }
    },
    {
      "cell_type": "code",
      "source": [
        "#while迴圈 #無法確定執行的次數\n",
        "#避免while迴圈進入無限迴圈３步驟：1.宣告變數(控制while執行與否) 2.比較變數(下條件) 3.改變變數的值(更新1已宣告的變數)\n",
        "count = 1\n",
        "while count <= 5:\n",
        "  print(count)\n",
        "  count += 1"
      ],
      "metadata": {
        "colab": {
          "base_uri": "https://localhost:8080/"
        },
        "id": "aPoJDgiBDbXS",
        "outputId": "f9bf9134-4c34-49da-dda2-031b3050170f"
      },
      "execution_count": 5,
      "outputs": [
        {
          "output_type": "stream",
          "name": "stdout",
          "text": [
            "1\n",
            "2\n",
            "3\n",
            "4\n",
            "5\n"
          ]
        }
      ]
    },
    {
      "cell_type": "code",
      "source": [
        "#while迴圈 #無法確定執行的次數\n",
        "#避免while迴圈進入無限迴圈３步驟：1.宣告變數(控制while執行與否) 2.比較變數(下條件) 3.改變變數的值(更新1已宣告的變數)\n",
        "#break：中斷迴圈\n",
        "#continue：跳到下一輪\n",
        "#while bool→while True：不需比較，直接進入迴圈\n",
        "total = 0\n",
        "while True:\n",
        "  num = int(input(\"請輸入一個數字 (輸入 0 結束):\"))\n",
        "  if num == 0:\n",
        "    break\n",
        "  total += num\n",
        "print(\"總和:\", total)"
      ],
      "metadata": {
        "colab": {
          "base_uri": "https://localhost:8080/"
        },
        "id": "e4qaSsn-EvSo",
        "outputId": "6d87aa66-01ba-4967-ecd2-acb0392a323d"
      },
      "execution_count": 16,
      "outputs": [
        {
          "output_type": "stream",
          "name": "stdout",
          "text": [
            "請輸入一個數字 (輸入 0 結束):5\n",
            "請輸入一個數字 (輸入 0 結束):10\n",
            "請輸入一個數字 (輸入 0 結束):0\n",
            "總和: 15\n"
          ]
        }
      ]
    },
    {
      "cell_type": "markdown",
      "source": [
        "# python 取得亂數1~100\n",
        "\n",
        "---\n",
        "要在 Python 中取得 1 到 100 之間的隨機整數，可以使用 random 模組的 randint 函數。範例如下：\n",
        "\n",
        "```\n",
        "import random\n",
        "\n",
        "num = random.randint(1, 100)\n",
        "print(num)\n",
        "```\n",
        "這段程式碼會產生一個介於 1 到 100（包含1和100）的整數隨機數。\n",
        "\n",
        "簡單說明：\n",
        "\n",
        "random.randint(a, b) 會回傳一個介於 a 和 b 之間的整數，包含 a 和 b。\n",
        "\n",
        "需要先 import random 才能使用此函數。\n",
        "\n",
        "這是 Python 取得指定範圍隨機整數最常用且簡單的方法。\n",
        "\n",
        "\n"
      ],
      "metadata": {
        "id": "VXygKxVJHjtv"
      }
    },
    {
      "cell_type": "code",
      "source": [
        "import random\n",
        "min = 1\n",
        "max = 99\n",
        "count = 0\n",
        "random_number = random.randint(min,max) #加random_number改敘述式, 因後面程式都還要再用到值\n",
        "print(random_number)  #先知道答案\n",
        "print(\"=====猜數字遊戲開始========\\n\")\n",
        "while(True): #while後不用空格的bool\n",
        "  input_number = int(input(f\"請輸入數字({min}~{max}):\"))\n",
        "  count += 1\n",
        "  if(input_number == random_number):\n",
        "    print(f\"賓果!猜對了, 答案是:{input_number}\")\n",
        "    print(f\"您總共猜了{count}次\")\n",
        "    break\n",
        "  elif(input_number>random_number):\n",
        "    print(f\"再小一點\")\n",
        "    max = input_number - 1\n",
        "  elif(input_number<random_number):\n",
        "    print(f\"再大一點\")\n",
        "    min = input_number + 1\n",
        "\n",
        "  print(f\"您已經猜了{count}次\\n\")\n",
        "\n",
        "print(\"Game Over\")"
      ],
      "metadata": {
        "id": "vlimuNECIC9o",
        "outputId": "2ee6438f-c092-4486-9c2f-763c92e2b436",
        "colab": {
          "base_uri": "https://localhost:8080/"
        }
      },
      "execution_count": 31,
      "outputs": [
        {
          "output_type": "stream",
          "name": "stdout",
          "text": [
            "57\n",
            "=====猜數字遊戲開始========\n",
            "\n",
            "請輸入數字(1~99):80\n",
            "再小一點\n",
            "您已經猜了1次\n",
            "\n",
            "請輸入數字(1~79):50\n",
            "再大一點\n",
            "您已經猜了2次\n",
            "\n",
            "請輸入數字(51~79):57\n",
            "賓果!猜對了, 答案是:57\n",
            "您總共猜了3次\n",
            "Game Over\n"
          ]
        }
      ]
    },
    {
      "cell_type": "code",
      "source": [
        "orange = 3\n",
        "apple = 5\n",
        "\"您有orange\" + str(orange) + \"個, apple \" + str(apple) + \"個\" #數值轉字串 #str()"
      ],
      "metadata": {
        "id": "h7illUCIJtRw",
        "outputId": "c0d1ffca-d7a9-465a-ffb9-d695d9717b9a",
        "colab": {
          "base_uri": "https://localhost:8080/",
          "height": 35
        }
      },
      "execution_count": 25,
      "outputs": [
        {
          "output_type": "execute_result",
          "data": {
            "text/plain": [
              "'您有orange3個, apple 5個'"
            ],
            "application/vnd.google.colaboratory.intrinsic+json": {
              "type": "string"
            }
          },
          "metadata": {},
          "execution_count": 25
        }
      ]
    },
    {
      "cell_type": "code",
      "source": [
        "orange = 3\n",
        "apple = 5\n",
        "f\"您有orange{orange}個, apple {apple}個\" #數值轉字串 #f{}字串插補"
      ],
      "metadata": {
        "id": "ZIYt7cn0KZhI",
        "outputId": "b697bb86-05cd-4c8d-dd6f-506eea9ede40",
        "colab": {
          "base_uri": "https://localhost:8080/",
          "height": 35
        }
      },
      "execution_count": 27,
      "outputs": [
        {
          "output_type": "execute_result",
          "data": {
            "text/plain": [
              "'您有orange3個, apple 5個'"
            ],
            "application/vnd.google.colaboratory.intrinsic+json": {
              "type": "string"
            }
          },
          "metadata": {},
          "execution_count": 27
        }
      ]
    }
  ]
}