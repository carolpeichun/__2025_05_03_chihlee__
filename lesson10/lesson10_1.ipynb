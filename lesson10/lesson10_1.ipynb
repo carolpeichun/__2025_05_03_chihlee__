{
 "cells": [
  {
   "cell_type": "markdown",
   "id": "49294811",
   "metadata": {},
   "source": [
    "https://www.perplexity.ai/search/3fe51208-8e87-4055-9e80-8c6114ac49d3"
   ]
  },
  {
   "cell_type": "code",
   "execution_count": null,
   "id": "40ef316c",
   "metadata": {},
   "outputs": [],
   "source": [
    "import csv #csv是以純文字格式儲存表格資料的檔案類型；是python內建的內部套件，可以直接使用。\n",
    "with open('個股日成交資訊.csv', encoding='utf-8', newline='') as csvfile:\n",
    "    reader = csv.reader(csvfile)    \n",
    "    for row in reader:\n",
    "        print(row)"
   ]
  },
  {
   "cell_type": "code",
   "execution_count": null,
   "id": "2a457f9c",
   "metadata": {},
   "outputs": [],
   "source": [
    "import csv #csv是以純文字格式儲存表格資料的檔案類型；是python內建的內部套件，可以直接使用。\n",
    "with open('個股日成交資訊.csv', encoding='utf-8', newline='') as csvfile:\n",
    "    reader = csv.reader(csvfile)\n",
    "    next(reader)\n",
    "    stacks:list[list] = list(reader)\n",
    "type(stacks)"
   ]
  },
  {
   "cell_type": "code",
   "execution_count": null,
   "id": "05a71c35",
   "metadata": {},
   "outputs": [],
   "source": [
    "import csv #csv是以純文字格式儲存表格資料的檔案類型；是python內建的內部套件，可以直接使用。\n",
    "with open('個股日成交資訊.csv', encoding='utf-8', newline='') as csvfile:\n",
    "    reader = csv.reader(csvfile)\n",
    "    next(reader)    #跳過標題列\n",
    "    stacks:list[list] = list(reader)    #list 沒有key值\n",
    "stacks"
   ]
  },
  {
   "cell_type": "code",
   "execution_count": null,
   "id": "9ded678d",
   "metadata": {},
   "outputs": [],
   "source": [
    "import csv #csv是以純文字格式儲存表格資料的檔案類型；是python內建的內部套件，可以直接使用。\n",
    "with open('個股日成交資訊.csv', encoding='utf-8', newline='') as csvfile:\n",
    "    reader = csv.DictReader(csvfile)\n",
    "    stacks:list[dict] = list(reader)    #dict 有key值\n",
    "stacks\n",
    "    "
   ]
  },
  {
   "cell_type": "code",
   "execution_count": null,
   "id": "20191cbd",
   "metadata": {},
   "outputs": [],
   "source": [
    "import csv #csv是以純文字格式儲存表格資料的檔案類型；是python內建的內部套件，可以直接使用。\n",
    "with open('個股日成交資訊.csv', encoding='utf-8', newline='') as csvfile:\n",
    "    reader = csv.DictReader(csvfile)\n",
    "    stacks:list[dict] = list(reader)    #dict 有key值\n",
    "\n",
    "#印出stacks串列中的資料筆數\n",
    "print(f\"stacks 中共有{len(stacks)} 筆資料。\")"
   ]
  },
  {
   "cell_type": "markdown",
   "id": "067e88d2",
   "metadata": {},
   "source": [
    "https://www.perplexity.ai/search/e444a2ad-db91-4391-87be-a868c2f7c55f"
   ]
  },
  {
   "cell_type": "code",
   "execution_count": null,
   "id": "2bdacc11",
   "metadata": {},
   "outputs": [],
   "source": [
    "import pandas as pd #pandas是處理圖表化的套件，是python的外部套件，必須另外安裝才能使用。\n",
    "\n",
    "pd.DataFrame(stacks).head()"
   ]
  },
  {
   "cell_type": "code",
   "execution_count": 5,
   "id": "436df37a",
   "metadata": {},
   "outputs": [],
   "source": [
    "import pandas as pd #pandas是處理圖表化的套件，是python的外部套件，必須另外安裝才能使用。\n",
    "\n",
    "df1 = pd.DataFrame(stacks)\n",
    "df1.to_excel('個股日成交資訊.xlsx', sheet_name='第一頁', index=False)"
   ]
  }
 ],
 "metadata": {
  "kernelspec": {
   "display_name": "chihlee1",
   "language": "python",
   "name": "python3"
  },
  "language_info": {
   "codemirror_mode": {
    "name": "ipython",
    "version": 3
   },
   "file_extension": ".py",
   "mimetype": "text/x-python",
   "name": "python",
   "nbconvert_exporter": "python",
   "pygments_lexer": "ipython3",
   "version": "3.10.18"
  }
 },
 "nbformat": 4,
 "nbformat_minor": 5
}
